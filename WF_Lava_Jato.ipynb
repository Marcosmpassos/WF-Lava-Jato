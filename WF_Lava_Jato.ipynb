{
  "nbformat": 4,
  "nbformat_minor": 0,
  "metadata": {
    "colab": {
      "name": "WF Lava-Jato.ipynb",
      "provenance": [],
      "authorship_tag": "ABX9TyMg5AWQwreOqifjJ446/d0O",
      "include_colab_link": true
    },
    "kernelspec": {
      "name": "python3",
      "display_name": "Python 3"
    }
  },
  "cells": [
    {
      "cell_type": "markdown",
      "metadata": {
        "id": "view-in-github",
        "colab_type": "text"
      },
      "source": [
        "<a href=\"https://colab.research.google.com/github/Marcosmpassos/WF-Lava-Jato/blob/main/WF_Lava_Jato.ipynb\" target=\"_parent\"><img src=\"https://colab.research.google.com/assets/colab-badge.svg\" alt=\"Open In Colab\"/></a>"
      ]
    },
    {
      "cell_type": "code",
      "metadata": {
        "id": "qmfW16bY0s28"
      },
      "source": [
        "pip install warnings"
      ],
      "execution_count": null,
      "outputs": []
    },
    {
      "cell_type": "code",
      "metadata": {
        "id": "Hw78-Gq6yGLu"
      },
      "source": [
        "import os\n",
        "import pandas as pd\n",
        "import matplotlib.pyplot as plt\n",
        "import seaborn as sns\n",
        "import itertools\n",
        "import collections"
      ],
      "execution_count": null,
      "outputs": []
    },
    {
      "cell_type": "code",
      "metadata": {
        "id": "sB0ybgHa1hCp"
      },
      "source": [
        "import tweepy as tw\n",
        "import nltk\n",
        "from nltk.corpus import stopwords\n",
        "import re\n",
        "import networkx as nx"
      ],
      "execution_count": null,
      "outputs": []
    },
    {
      "cell_type": "code",
      "metadata": {
        "id": "0eW5O-N-1jMW"
      },
      "source": [
        "import warnings\n",
        "warnings.filterwarnings(\"ignore\")"
      ],
      "execution_count": null,
      "outputs": []
    },
    {
      "cell_type": "code",
      "metadata": {
        "id": "D9i3h-mT1myi"
      },
      "source": [
        "sns.set(font_scale=1.5)\n",
        "sns.set_style(\"whitegrid\")\n"
      ],
      "execution_count": null,
      "outputs": []
    },
    {
      "cell_type": "code",
      "metadata": {
        "id": "NmQob-Nx1ro9"
      },
      "source": [
        "consumer_key= 'inserir key'\n",
        "consumer_secret= 'inserir key'\n",
        "access_token='inserir key'\n",
        "access_token_secret= 'inserir key'"
      ],
      "execution_count": null,
      "outputs": []
    },
    {
      "cell_type": "code",
      "metadata": {
        "id": "ICVTYf0i7Ofk"
      },
      "source": [
        "auth = tw.OAuthHandler(consumer_key, consumer_secret)\n",
        "auth.set_access_token(access_token, access_token_secret)\n",
        "api = tw.API(auth, wait_on_rate_limit=True)"
      ],
      "execution_count": null,
      "outputs": []
    },
    {
      "cell_type": "code",
      "metadata": {
        "id": "7dBAtBvQ9zmp"
      },
      "source": [
        "search_term = \"lava+jato\" + \"-filter:retweets\""
      ],
      "execution_count": null,
      "outputs": []
    },
    {
      "cell_type": "code",
      "metadata": {
        "id": "_0ylimIz9Hmm"
      },
      "source": [
        "tweets = tw.Cursor(api.search,\n",
        "                   q=search_term,\n",
        "                   lang=\"pt-br\",).items(3000)"
      ],
      "execution_count": null,
      "outputs": []
    },
    {
      "cell_type": "code",
      "metadata": {
        "id": "tvuxnMMW_NIB"
      },
      "source": [
        "all_tweets = [tweet.text for tweet in tweets]"
      ],
      "execution_count": null,
      "outputs": []
    },
    {
      "cell_type": "code",
      "metadata": {
        "id": "9C3mSxPyEKCn"
      },
      "source": [
        "def remove_url(txt):\n",
        "    \"\"\"Replace URLs found in a text string with nothing \n",
        "    (i.e. it will remove the URL from the string).\n",
        "\n",
        "    Parameters\n",
        "    ----------\n",
        "    txt : string\n",
        "        A text string that you want to parse and remove urls.\n",
        "\n",
        "    Returns\n",
        "    -------\n",
        "    The same txt string with url's removed.\n",
        "    \"\"\"\n",
        "\n",
        "    return \" \".join(re.sub(\"([^0-9A-Za-z \\t])|(\\w+:\\/\\/\\S+)\", \"\", txt).split())"
      ],
      "execution_count": null,
      "outputs": []
    },
    {
      "cell_type": "code",
      "metadata": {
        "id": "CMdQsRKqF8CJ"
      },
      "source": [
        ""
      ],
      "execution_count": null,
      "outputs": []
    },
    {
      "cell_type": "code",
      "metadata": {
        "id": "sRCxZ1dTHvaB"
      },
      "source": [
        "tweets_no_urls"
      ],
      "execution_count": null,
      "outputs": []
    },
    {
      "cell_type": "code",
      "metadata": {
        "id": "yWtnFyqlqpWE"
      },
      "source": [
        "# Create a sublist of lower case words for each tweet\n",
        "words_in_tweet = [tweet.lower().split() for tweet in tweets_no_urls]"
      ],
      "execution_count": null,
      "outputs": []
    },
    {
      "cell_type": "code",
      "metadata": {
        "id": "ZHGIV6Lxr8ym"
      },
      "source": [
        "words_in_tweet"
      ],
      "execution_count": null,
      "outputs": []
    },
    {
      "cell_type": "code",
      "metadata": {
        "colab": {
          "base_uri": "https://localhost:8080/"
        },
        "id": "d75_3nEzq4ev",
        "outputId": "64c29357-19c6-4522-c866-7ebf06020e6e"
      },
      "source": [
        "# Download stopwords\n",
        "nltk.download('stopwords')\n",
        "stop_words = set(stopwords.words('portuguese'))"
      ],
      "execution_count": null,
      "outputs": [
        {
          "output_type": "stream",
          "text": [
            "[nltk_data] Downloading package stopwords to /root/nltk_data...\n",
            "[nltk_data]   Unzipping corpora/stopwords.zip.\n"
          ],
          "name": "stdout"
        }
      ]
    },
    {
      "cell_type": "code",
      "metadata": {
        "id": "8BAwQgQGrmCx"
      },
      "source": [
        "# Remove stop words from each tweet list of words\n",
        "tweets_nsw = [[word for word in tweet_words if not word in stop_words]\n",
        "              for tweet_words in words_in_tweet]"
      ],
      "execution_count": null,
      "outputs": []
    },
    {
      "cell_type": "code",
      "metadata": {
        "id": "dZ93dgRelK0O"
      },
      "source": [
        "tweets_nsw"
      ],
      "execution_count": null,
      "outputs": []
    },
    {
      "cell_type": "code",
      "metadata": {
        "id": "m4FBMPuyro4c"
      },
      "source": [
        "# Remove collection words\n",
        "collection_words = ['Lava', 'Jato', 'lava', 'jato',\n",
        "                    'acho', 'todas', 'pessoas', 'gente', 'varias', \n",
        "                    'vi', 'grande', 'mesma', 'igual', 'esto', 'at',\n",
        "                    'vrias', 'j', 'coisa', 'maior', 'devolv', 'ano',\n",
        "                    'diz', 'sobre', 'h']\n",
        "\n"
      ],
      "execution_count": null,
      "outputs": []
    },
    {
      "cell_type": "code",
      "metadata": {
        "id": "MMIFQ_gkROdM"
      },
      "source": [
        "tweets_nsw_nc = [[w for w in word if not w in collection_words]\n",
        "                 for word in tweets_nsw]"
      ],
      "execution_count": null,
      "outputs": []
    },
    {
      "cell_type": "code",
      "metadata": {
        "id": "T1HOCSZNs1as"
      },
      "source": [
        "tweets_nsw_nc"
      ],
      "execution_count": null,
      "outputs": []
    },
    {
      "cell_type": "code",
      "metadata": {
        "colab": {
          "base_uri": "https://localhost:8080/",
          "height": 514
        },
        "id": "yF6rL1jyCHqZ",
        "outputId": "76b61bd8-6a48-442d-f8f3-917ba7b067d5"
      },
      "source": [
        "# Process for word counts\n",
        "all_words_nsw = list(itertools.chain(*tweets_nsw_nc))\n",
        "\n",
        "counts_nsw = collections.Counter(all_words_nsw)\n",
        "\n",
        "clean_tweets_nsw = pd.DataFrame(counts_nsw.most_common(15),\n",
        "                             columns=['words', 'count'])\n",
        "clean_tweets_nsw"
      ],
      "execution_count": null,
      "outputs": [
        {
          "output_type": "execute_result",
          "data": {
            "text/html": [
              "<div>\n",
              "<style scoped>\n",
              "    .dataframe tbody tr th:only-of-type {\n",
              "        vertical-align: middle;\n",
              "    }\n",
              "\n",
              "    .dataframe tbody tr th {\n",
              "        vertical-align: top;\n",
              "    }\n",
              "\n",
              "    .dataframe thead th {\n",
              "        text-align: right;\n",
              "    }\n",
              "</style>\n",
              "<table border=\"1\" class=\"dataframe\">\n",
              "  <thead>\n",
              "    <tr style=\"text-align: right;\">\n",
              "      <th></th>\n",
              "      <th>words</th>\n",
              "      <th>count</th>\n",
              "    </tr>\n",
              "  </thead>\n",
              "  <tbody>\n",
              "    <tr>\n",
              "      <th>0</th>\n",
              "      <td>moro</td>\n",
              "      <td>13</td>\n",
              "    </tr>\n",
              "    <tr>\n",
              "      <th>1</th>\n",
              "      <td>lavajato</td>\n",
              "      <td>11</td>\n",
              "    </tr>\n",
              "    <tr>\n",
              "      <th>2</th>\n",
              "      <td>dinheiro</td>\n",
              "      <td>10</td>\n",
              "    </tr>\n",
              "    <tr>\n",
              "      <th>3</th>\n",
              "      <td>stf</td>\n",
              "      <td>10</td>\n",
              "    </tr>\n",
              "    <tr>\n",
              "      <th>4</th>\n",
              "      <td>gilmar</td>\n",
              "      <td>9</td>\n",
              "    </tr>\n",
              "    <tr>\n",
              "      <th>5</th>\n",
              "      <td>lula</td>\n",
              "      <td>9</td>\n",
              "    </tr>\n",
              "    <tr>\n",
              "      <th>6</th>\n",
              "      <td>q</td>\n",
              "      <td>8</td>\n",
              "    </tr>\n",
              "    <tr>\n",
              "      <th>7</th>\n",
              "      <td>fachin</td>\n",
              "      <td>8</td>\n",
              "    </tr>\n",
              "    <tr>\n",
              "      <th>8</th>\n",
              "      <td>alm</td>\n",
              "      <td>8</td>\n",
              "    </tr>\n",
              "    <tr>\n",
              "      <th>9</th>\n",
              "      <td>devolver</td>\n",
              "      <td>8</td>\n",
              "    </tr>\n",
              "    <tr>\n",
              "      <th>10</th>\n",
              "      <td>corruptos</td>\n",
              "      <td>8</td>\n",
              "    </tr>\n",
              "    <tr>\n",
              "      <th>11</th>\n",
              "      <td>s</td>\n",
              "      <td>7</td>\n",
              "    </tr>\n",
              "    <tr>\n",
              "      <th>12</th>\n",
              "      <td>pra</td>\n",
              "      <td>7</td>\n",
              "    </tr>\n",
              "    <tr>\n",
              "      <th>13</th>\n",
              "      <td>impostos</td>\n",
              "      <td>7</td>\n",
              "    </tr>\n",
              "    <tr>\n",
              "      <th>14</th>\n",
              "      <td>mendes</td>\n",
              "      <td>6</td>\n",
              "    </tr>\n",
              "  </tbody>\n",
              "</table>\n",
              "</div>"
            ],
            "text/plain": [
              "        words  count\n",
              "0        moro     13\n",
              "1    lavajato     11\n",
              "2    dinheiro     10\n",
              "3         stf     10\n",
              "4      gilmar      9\n",
              "5        lula      9\n",
              "6           q      8\n",
              "7      fachin      8\n",
              "8         alm      8\n",
              "9    devolver      8\n",
              "10  corruptos      8\n",
              "11          s      7\n",
              "12        pra      7\n",
              "13   impostos      7\n",
              "14     mendes      6"
            ]
          },
          "metadata": {
            "tags": []
          },
          "execution_count": 139
        }
      ]
    },
    {
      "cell_type": "code",
      "metadata": {
        "colab": {
          "base_uri": "https://localhost:8080/",
          "height": 513
        },
        "id": "O3LkaYlXCRRo",
        "outputId": "2f47bd7b-23c2-41c7-f81c-100241d3e4f4"
      },
      "source": [
        "fig, ax = plt.subplots(figsize=(8, 8))\n",
        "\n",
        "# Plot horizontal bar graph\n",
        "clean_tweets_nsw.sort_values(by='count').plot.barh(x='words',\n",
        "                      y='count',\n",
        "                      ax=ax,\n",
        "                      color=\"purple\")\n",
        "\n",
        "ax.set_title(\"Common Words Found in Tweets (Without Stop Words)\")\n",
        "\n",
        "plt.show()"
      ],
      "execution_count": null,
      "outputs": [
        {
          "output_type": "display_data",
          "data": {
            "image/png": "[encoded data removed]",
            "text/plain": [
              "<Figure size 576x576 with 1 Axes>"
            ]
          },
          "metadata": {
            "tags": []
          }
        }
      ]
    },
    {
      "cell_type": "code",
      "metadata": {
        "id": "9ct44tnCt1Fc"
      },
      "source": [
        "from nltk import bigrams"
      ],
      "execution_count": null,
      "outputs": []
    },
    {
      "cell_type": "code",
      "metadata": {
        "id": "4uifxBvDsk0C"
      },
      "source": [
        "# Create list of lists containing bigrams in tweets\n",
        "terms_bigram = [list(bigrams(tweet)) for tweet in tweets_nsw_nc]"
      ],
      "execution_count": null,
      "outputs": []
    },
    {
      "cell_type": "code",
      "metadata": {
        "colab": {
          "base_uri": "https://localhost:8080/"
        },
        "id": "d05cSjBEtLKh",
        "outputId": "120b4575-7138-4e50-d21c-9297185df23d"
      },
      "source": [
        "# View bigrams for the first tweet\n",
        "terms_bigram[0]"
      ],
      "execution_count": null,
      "outputs": [
        {
          "output_type": "execute_result",
          "data": {
            "text/plain": [
              "[('julgamento', 'moro'),\n",
              " ('moro', 'gilmar'),\n",
              " ('gilmar', 'cita'),\n",
              " ('cita', 'advogado'),\n",
              " ('advogado', 'misterioso'),\n",
              " ('misterioso', 'informao'),\n",
              " ('informao', 'contra')]"
            ]
          },
          "metadata": {
            "tags": []
          },
          "execution_count": 108
        }
      ]
    },
    {
      "cell_type": "code",
      "metadata": {
        "id": "qwZwbD3Ymb0b"
      },
      "source": [
        "# Flatten list of bigrams in clean tweets\n",
        "bigrams = list(itertools.chain(*terms_bigram))"
      ],
      "execution_count": null,
      "outputs": []
    },
    {
      "cell_type": "code",
      "metadata": {
        "id": "0Nfg_bBVmgpP"
      },
      "source": [
        "# Create counter of words in clean bigrams\n",
        "bigram_counts = collections.Counter(bigrams)"
      ],
      "execution_count": null,
      "outputs": []
    },
    {
      "cell_type": "code",
      "metadata": {
        "colab": {
          "base_uri": "https://localhost:8080/"
        },
        "id": "I9W0Zwy3mi-l",
        "outputId": "e0edecb8-de95-410b-927f-9daafd7af523"
      },
      "source": [
        "bigram_counts.most_common(32)"
      ],
      "execution_count": null,
      "outputs": [
        {
          "output_type": "execute_result",
          "data": {
            "text/plain": [
              "[(('alm', 'impostos'), 7),\n",
              " (('impostos', 'devolver'), 7),\n",
              " (('devolver', 'dinheiro'), 7),\n",
              " (('gilmar', 'mendes'), 6),\n",
              " (('dinheiro', 'corruptos'), 6),\n",
              " (('edson', 'fachin'), 5),\n",
              " (('stfoficial', 'ministro'), 4),\n",
              " (('ministro', 'stf'), 4),\n",
              " (('stf', 'edson'), 4),\n",
              " (('fachin', 'canalha'), 4),\n",
              " (('canalha', 'anula'), 4),\n",
              " (('anula', 'condenaes'), 4),\n",
              " (('condenaes', 'ladro'), 4),\n",
              " (('postando', 'fake'), 4),\n",
              " (('fake', 'newsparecem'), 4),\n",
              " (('newsparecem', 'robs'), 4),\n",
              " (('robs', 'espalhando'), 4),\n",
              " (('espalhando', 'mentiras'), 4),\n",
              " (('srgio', 'moro'), 3),\n",
              " (('rede', 'globo'), 3),\n",
              " (('berieux', 'postando'), 3),\n",
              " (('suspeio', 'srgio'), 2),\n",
              " (('bilhes', 'reais'), 2),\n",
              " (('bilhes', 'recuperados'), 2),\n",
              " (('contra', 'moro'), 2),\n",
              " (('bilhes', 'recuperou'), 2),\n",
              " (('tucomay', 'peterjordan100'), 2),\n",
              " (('orquestrao', 'desqualificar'), 2),\n",
              " (('desqualificar', 'moro'), 2),\n",
              " (('moro', 'marco'), 2),\n",
              " (('marco', 'aurlio'), 2),\n",
              " (('aurlio', 'lavajato'), 2)]"
            ]
          },
          "metadata": {
            "tags": []
          },
          "execution_count": 114
        }
      ]
    },
    {
      "cell_type": "code",
      "metadata": {
        "colab": {
          "base_uri": "https://localhost:8080/",
          "height": 669
        },
        "id": "yqnQhSsMm_Oc",
        "outputId": "35249ac7-2452-47a2-f136-460288d0b381"
      },
      "source": [
        "bigram_df = pd.DataFrame(bigram_counts.most_common(20),\n",
        "                             columns=['bigram', 'count'])\n",
        "\n",
        "bigram_df"
      ],
      "execution_count": null,
      "outputs": [
        {
          "output_type": "execute_result",
          "data": {
            "text/html": [
              "<div>\n",
              "<style scoped>\n",
              "    .dataframe tbody tr th:only-of-type {\n",
              "        vertical-align: middle;\n",
              "    }\n",
              "\n",
              "    .dataframe tbody tr th {\n",
              "        vertical-align: top;\n",
              "    }\n",
              "\n",
              "    .dataframe thead th {\n",
              "        text-align: right;\n",
              "    }\n",
              "</style>\n",
              "<table border=\"1\" class=\"dataframe\">\n",
              "  <thead>\n",
              "    <tr style=\"text-align: right;\">\n",
              "      <th></th>\n",
              "      <th>bigram</th>\n",
              "      <th>count</th>\n",
              "    </tr>\n",
              "  </thead>\n",
              "  <tbody>\n",
              "    <tr>\n",
              "      <th>0</th>\n",
              "      <td>(alm, impostos)</td>\n",
              "      <td>7</td>\n",
              "    </tr>\n",
              "    <tr>\n",
              "      <th>1</th>\n",
              "      <td>(impostos, devolver)</td>\n",
              "      <td>7</td>\n",
              "    </tr>\n",
              "    <tr>\n",
              "      <th>2</th>\n",
              "      <td>(devolver, dinheiro)</td>\n",
              "      <td>7</td>\n",
              "    </tr>\n",
              "    <tr>\n",
              "      <th>3</th>\n",
              "      <td>(gilmar, mendes)</td>\n",
              "      <td>6</td>\n",
              "    </tr>\n",
              "    <tr>\n",
              "      <th>4</th>\n",
              "      <td>(dinheiro, corruptos)</td>\n",
              "      <td>6</td>\n",
              "    </tr>\n",
              "    <tr>\n",
              "      <th>5</th>\n",
              "      <td>(edson, fachin)</td>\n",
              "      <td>5</td>\n",
              "    </tr>\n",
              "    <tr>\n",
              "      <th>6</th>\n",
              "      <td>(stfoficial, ministro)</td>\n",
              "      <td>4</td>\n",
              "    </tr>\n",
              "    <tr>\n",
              "      <th>7</th>\n",
              "      <td>(ministro, stf)</td>\n",
              "      <td>4</td>\n",
              "    </tr>\n",
              "    <tr>\n",
              "      <th>8</th>\n",
              "      <td>(stf, edson)</td>\n",
              "      <td>4</td>\n",
              "    </tr>\n",
              "    <tr>\n",
              "      <th>9</th>\n",
              "      <td>(fachin, canalha)</td>\n",
              "      <td>4</td>\n",
              "    </tr>\n",
              "    <tr>\n",
              "      <th>10</th>\n",
              "      <td>(canalha, anula)</td>\n",
              "      <td>4</td>\n",
              "    </tr>\n",
              "    <tr>\n",
              "      <th>11</th>\n",
              "      <td>(anula, condenaes)</td>\n",
              "      <td>4</td>\n",
              "    </tr>\n",
              "    <tr>\n",
              "      <th>12</th>\n",
              "      <td>(condenaes, ladro)</td>\n",
              "      <td>4</td>\n",
              "    </tr>\n",
              "    <tr>\n",
              "      <th>13</th>\n",
              "      <td>(postando, fake)</td>\n",
              "      <td>4</td>\n",
              "    </tr>\n",
              "    <tr>\n",
              "      <th>14</th>\n",
              "      <td>(fake, newsparecem)</td>\n",
              "      <td>4</td>\n",
              "    </tr>\n",
              "    <tr>\n",
              "      <th>15</th>\n",
              "      <td>(newsparecem, robs)</td>\n",
              "      <td>4</td>\n",
              "    </tr>\n",
              "    <tr>\n",
              "      <th>16</th>\n",
              "      <td>(robs, espalhando)</td>\n",
              "      <td>4</td>\n",
              "    </tr>\n",
              "    <tr>\n",
              "      <th>17</th>\n",
              "      <td>(espalhando, mentiras)</td>\n",
              "      <td>4</td>\n",
              "    </tr>\n",
              "    <tr>\n",
              "      <th>18</th>\n",
              "      <td>(srgio, moro)</td>\n",
              "      <td>3</td>\n",
              "    </tr>\n",
              "    <tr>\n",
              "      <th>19</th>\n",
              "      <td>(rede, globo)</td>\n",
              "      <td>3</td>\n",
              "    </tr>\n",
              "  </tbody>\n",
              "</table>\n",
              "</div>"
            ],
            "text/plain": [
              "                    bigram  count\n",
              "0          (alm, impostos)      7\n",
              "1     (impostos, devolver)      7\n",
              "2     (devolver, dinheiro)      7\n",
              "3         (gilmar, mendes)      6\n",
              "4    (dinheiro, corruptos)      6\n",
              "5          (edson, fachin)      5\n",
              "6   (stfoficial, ministro)      4\n",
              "7          (ministro, stf)      4\n",
              "8             (stf, edson)      4\n",
              "9        (fachin, canalha)      4\n",
              "10        (canalha, anula)      4\n",
              "11      (anula, condenaes)      4\n",
              "12      (condenaes, ladro)      4\n",
              "13        (postando, fake)      4\n",
              "14     (fake, newsparecem)      4\n",
              "15     (newsparecem, robs)      4\n",
              "16      (robs, espalhando)      4\n",
              "17  (espalhando, mentiras)      4\n",
              "18           (srgio, moro)      3\n",
              "19           (rede, globo)      3"
            ]
          },
          "metadata": {
            "tags": []
          },
          "execution_count": 115
        }
      ]
    },
    {
      "cell_type": "code",
      "metadata": {
        "id": "RMz_1gB2ns5i"
      },
      "source": [
        "# Create dictionary of bigrams and their counts\n",
        "d = bigram_df.set_index('bigram').T.to_dict('records')"
      ],
      "execution_count": null,
      "outputs": []
    },
    {
      "cell_type": "code",
      "metadata": {
        "id": "yzi6wC44tBjH"
      },
      "source": [
        "# Create network plot \n",
        "G = nx.Graph()\n",
        "\n",
        "# Create connections between nodes\n",
        "for k, v in d[0].items():\n",
        "    G.add_edge(k[0], k[1], weight=(v * 10))\n",
        "\n",
        "G.add_node(\"china\", weight=100)"
      ],
      "execution_count": null,
      "outputs": []
    },
    {
      "cell_type": "code",
      "metadata": {
        "colab": {
          "base_uri": "https://localhost:8080/",
          "height": 425
        },
        "id": "rzdV6MxgtYLZ",
        "outputId": "c9d167c7-d5ff-48f0-a106-6da73aa7000d"
      },
      "source": [
        "fig, ax = plt.subplots(figsize=(20, 10))\n",
        "\n",
        "pos = nx.spring_layout(G, k=2)\n",
        "\n",
        "# Plot networks\n",
        "nx.draw_networkx(G, pos,\n",
        "                 font_size=16,\n",
        "                 width=3,\n",
        "                 edge_color='grey',\n",
        "                 node_color='purple',\n",
        "                 with_labels = False,\n",
        "                 ax=ax)\n",
        "\n",
        "# Create offset labels\n",
        "for key, value in pos.items():\n",
        "    x, y = value[0]+.135, value[1]+.045\n",
        "    ax.text(x, y,\n",
        "            s=key,\n",
        "            bbox=dict(facecolor='red', alpha=0.25),\n",
        "            horizontalalignment='center', fontsize=13)\n",
        "    \n",
        "plt.show()"
      ],
      "execution_count": null,
      "outputs": [
        {
          "output_type": "display_data",
          "data": {
            "image/png": "[encoded data removed]",
            "text/plain": [
              "<Figure size 1440x720 with 1 Axes>"
            ]
          },
          "metadata": {
            "tags": []
          }
        }
      ]
    },
    {
      "cell_type": "code",
      "metadata": {
        "id": "WQdeq9IexA42"
      },
      "source": [
        "# Process for word counts\n",
        "all_words_nsw = list(itertools.chain(*tweets_nsw_nc))\n",
        " \n",
        "counts_nsw = collections.Counter(all_words_nsw)\n",
        " \n",
        "clean_tweets_nsw = pd.DataFrame(counts_nsw.most_common(15),\n",
        "                             columns=['words', 'count'])\n",
        "clean_tweets_nsw"
      ],
      "execution_count": null,
      "outputs": []
    }
  ]
}